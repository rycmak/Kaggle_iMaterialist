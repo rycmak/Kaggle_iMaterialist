{
 "cells": [
  {
   "cell_type": "code",
   "execution_count": 1,
   "metadata": {},
   "outputs": [],
   "source": [
    "import cv2\n",
    "import os\n",
    "import time"
   ]
  },
  {
   "cell_type": "code",
   "execution_count": 2,
   "metadata": {},
   "outputs": [],
   "source": [
    "# Difference hash\n",
    "def dhash(img, hashSize=8):  # hashSize determines number of bits in hash\n",
    "    # Resize to (almost) square image\n",
    "    resized = cv2.resize(img, (hashSize + 1, hashSize))\n",
    "    # Measure relative brightness of column-wise adjacent pixels\n",
    "    diff = resized[:, 1:] > resized[:, :-1]\n",
    "    # convert difference image to a hash\n",
    "    return sum([2**i for (i, v) in enumerate(diff.flatten()) if v])"
   ]
  },
  {
   "cell_type": "code",
   "execution_count": null,
   "metadata": {
    "scrolled": true
   },
   "outputs": [],
   "source": [
    "# Build a dictionary of hashes as keys and files as values.\n",
    "# Keys with multiple values indicate duplicate images.\n",
    "\n",
    "# Folder where images are located; put files into a list\n",
    "imgDir = \"data/images/train/\"\n",
    "imgList = [f for f in os.listdir(imgDir)]\n",
    "\n",
    "hashDict = {}  # Dictionary of hash keys with images\n",
    "count = 0\n",
    "\n",
    "startTime = time.time()\n",
    "\n",
    "for i in imgList:\n",
    "    img = cv2.imread(imgDir + i)    \n",
    "    \n",
    "    img = cv2.cvtColor(img, cv2.COLOR_BGR2GRAY)  # convert image to greyscale\n",
    "    imgHash = dhash(img)  # caluclate hash function for image\n",
    "    \n",
    "    fileList = hashDict.get(imgHash, [])  # get list of files with same hash; return [] if no identical hash found\n",
    "    fileList.append(i)  # append latest image to list of identical images if exist\n",
    "    hashDict[imgHash] = fileList  # update hash key with new list\n",
    "    \n",
    "    count += 1\n",
    "    if count % 1000 == 0:\n",
    "        print(\"Count = \", count)\n",
    "    \n",
    "endTime = time.time()"
   ]
  },
  {
   "cell_type": "code",
   "execution_count": 72,
   "metadata": {},
   "outputs": [
    {
     "name": "stdout",
     "output_type": "stream",
     "text": [
      "Time taken = 7419.676875114441 s\n"
     ]
    }
   ],
   "source": [
    "print(\"Time taken = {0} s\".format(endTime - startTime))"
   ]
  },
  {
   "cell_type": "code",
   "execution_count": 78,
   "metadata": {},
   "outputs": [
    {
     "data": {
      "text/plain": [
       "1014544"
      ]
     },
     "execution_count": 78,
     "metadata": {},
     "output_type": "execute_result"
    }
   ],
   "source": [
    "count"
   ]
  },
  {
   "cell_type": "code",
   "execution_count": 73,
   "metadata": {},
   "outputs": [],
   "source": [
    "# Extract only hash keys with multiple files (duplicates)\n",
    "duplicatesDict = {}\n",
    "for key in hashDict:\n",
    "    if len(hashDict[key]) > 1:\n",
    "        duplicatesDict[key] = hashDict[key]"
   ]
  },
  {
   "cell_type": "code",
   "execution_count": 74,
   "metadata": {},
   "outputs": [
    {
     "data": {
      "text/plain": [
       "42312"
      ]
     },
     "execution_count": 74,
     "metadata": {},
     "output_type": "execute_result"
    }
   ],
   "source": [
    "len(duplicatesDict)"
   ]
  },
  {
   "cell_type": "code",
   "execution_count": 75,
   "metadata": {},
   "outputs": [],
   "source": [
    "# Save to csv\n",
    "import csv\n",
    "w = csv.writer(open(\"duplicatesDict_train.csv\", \"w\"))\n",
    "for key, val in duplicatesDict.items():\n",
    "    w.writerow([key, val])"
   ]
  },
  {
   "cell_type": "code",
   "execution_count": 76,
   "metadata": {},
   "outputs": [],
   "source": [
    "# Save to json\n",
    "import json\n",
    "json = json.dumps(duplicatesDict)\n",
    "f = open(\"duplicatesDict_train.json\", 'w')\n",
    "f.write(json)\n",
    "f.close()"
   ]
  },
  {
   "cell_type": "code",
   "execution_count": 70,
   "metadata": {},
   "outputs": [
    {
     "name": "stdout",
     "output_type": "stream",
     "text": [
      "5578001356633761481\n"
     ]
    }
   ],
   "source": [
    "# Get key for particular file\n",
    "for key, value in hashDict.items():\n",
    "    if \"707540.jpg\" in value:\n",
    "        print(key)"
   ]
  }
 ],
 "metadata": {
  "kernelspec": {
   "display_name": "Python 3",
   "language": "python",
   "name": "python3"
  },
  "language_info": {
   "codemirror_mode": {
    "name": "ipython",
    "version": 3
   },
   "file_extension": ".py",
   "mimetype": "text/x-python",
   "name": "python",
   "nbconvert_exporter": "python",
   "pygments_lexer": "ipython3",
   "version": "3.5.6"
  }
 },
 "nbformat": 4,
 "nbformat_minor": 2
}
