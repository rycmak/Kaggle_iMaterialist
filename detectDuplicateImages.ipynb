{
 "cells": [
  {
   "cell_type": "code",
   "execution_count": 50,
   "metadata": {},
   "outputs": [],
   "source": [
    "import cv2\n",
    "import os\n",
    "import time"
   ]
  },
  {
   "cell_type": "code",
   "execution_count": 51,
   "metadata": {},
   "outputs": [],
   "source": [
    "# Difference hash\n",
    "def dhash(img, hashSize=8):  # hashSize determines number of bits in hash\n",
    "    # Resize to (almost) square image\n",
    "    resized = cv2.resize(img, (hashSize + 1, hashSize))\n",
    "    # Measure relative brightness of column-wise adjacent pixels\n",
    "    diff = resized[:, 1:] > resized[:, :-1]\n",
    "    # convert difference image to a hash\n",
    "    return sum([2**i for (i, v) in enumerate(diff.flatten()) if v])"
   ]
  },
  {
   "cell_type": "code",
   "execution_count": 52,
   "metadata": {},
   "outputs": [],
   "source": [
    "# Build a dictionary of hashes as keys and files as values.\n",
    "# Keys with multiple values indicate duplicate images.\n",
    "\n",
    "# Folder where images are located; put files into a list\n",
    "imgDir = \"data/images/test_duplicates/\"\n",
    "imgList = [f for f in os.listdir(imgDir)]\n",
    "\n",
    "hashDict = {}  # Dictionary of hash keys with images\n",
    "\n",
    "startTime = time.time()\n",
    "\n",
    "for i in imgList:\n",
    "    img = cv2.imread(imgDir + i)    \n",
    "    \n",
    "    img = cv2.cvtColor(img, cv2.COLOR_BGR2GRAY)  # convert image to greyscale\n",
    "    imgHash = dhash(img)  # caluclate hash function for image\n",
    "    \n",
    "    fileList = hashDict.get(imgHash, [])  # get list of files with same hash; return [] if no identical hash found\n",
    "    fileList.append(i)  # append latest image to list of identical images if exist\n",
    "    hashDict[imgHash] = fileList  # update hash key with new list\n",
    "    \n",
    "endTime = time.time()"
   ]
  },
  {
   "cell_type": "code",
   "execution_count": 54,
   "metadata": {},
   "outputs": [
    {
     "name": "stdout",
     "output_type": "stream",
     "text": [
      "Time taken = 1.884777307510376 s\n"
     ]
    }
   ],
   "source": [
    "print(\"Time taken = {0} s\".format(endTime - startTime))"
   ]
  },
  {
   "cell_type": "code",
   "execution_count": 58,
   "metadata": {},
   "outputs": [],
   "source": [
    "# Extract only hash keys with multiple files (duplicates)\n",
    "duplicatesDict = {}\n",
    "for key in hashDict:\n",
    "    if len(hashDict[key]) > 1:\n",
    "        duplicatesDict[key] = hashDict[key]"
   ]
  },
  {
   "cell_type": "code",
   "execution_count": 60,
   "metadata": {},
   "outputs": [
    {
     "data": {
      "text/plain": [
       "{138110042112: ['1028.jpg', '120.jpg', '126.jpg', '185.jpg'],\n",
       " 1969990237916962591: ['1892.jpg', '19553.jpg'],\n",
       " 2587432787722659936: ['118097.jpg', '13646.jpg'],\n",
       " 3428969512287784078: ['434209.jpg', '77954.jpg'],\n",
       " 3467807000533420072: ['127099.jpg', '12867.jpg'],\n",
       " 4853353828243395977: ['482198.jpg', '825927.jpg'],\n",
       " 5360800460935088037: ['2138.jpg', '804679.jpg'],\n",
       " 5851069153878555435: ['10948.jpg', '358445.jpg', '5638.jpg'],\n",
       " 6139362478180865165: ['820356.jpg', '837456.jpg'],\n",
       " 6200217072142355271: ['847856.jpg', '953065.jpg', '993759.jpg'],\n",
       " 9503495932944435181: ['845934.jpg', '937722.jpg']}"
      ]
     },
     "execution_count": 60,
     "metadata": {},
     "output_type": "execute_result"
    }
   ],
   "source": [
    "duplicatesDict"
   ]
  },
  {
   "cell_type": "code",
   "execution_count": null,
   "metadata": {},
   "outputs": [],
   "source": []
  }
 ],
 "metadata": {
  "kernelspec": {
   "display_name": "Python 3",
   "language": "python",
   "name": "python3"
  },
  "language_info": {
   "codemirror_mode": {
    "name": "ipython",
    "version": 3
   },
   "file_extension": ".py",
   "mimetype": "text/x-python",
   "name": "python",
   "nbconvert_exporter": "python",
   "pygments_lexer": "ipython3",
   "version": "3.5.6"
  }
 },
 "nbformat": 4,
 "nbformat_minor": 2
}
